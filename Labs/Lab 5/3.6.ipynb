{
 "nbformat": 4,
 "nbformat_minor": 0,
 "metadata": {
  "kernelspec": {
   "display_name": "Python 3",
   "language": "python",
   "name": "python3"
  },
  "language_info": {
   "codemirror_mode": {
    "name": "ipython",
    "version": 3
   },
   "file_extension": ".py",
   "mimetype": "text/x-python",
   "name": "python",
   "nbconvert_exporter": "python",
   "pygments_lexer": "ipython3",
   "version": "3.8.10"
  },
  "colab": {
   "name": "3.6.ipynb",
   "provenance": [],
   "collapsed_sections": []
  }
 },
 "cells": [
  {
   "cell_type": "markdown",
   "metadata": {
    "id": "Tq8bG1MNUhzi"
   },
   "source": [
    "# Capítol 3 - Algorismes i Nombres"
   ]
  },
  {
   "cell_type": "markdown",
   "metadata": {
    "id": "tCtf0jLsUhzy"
   },
   "source": [
    "### 3.6 Aritmetica modular"
   ]
  },
  {
   "cell_type": "code",
   "metadata": {
    "id": "_ZIPSE7YUhzy"
   },
   "source": [
    "# Podem suposar que l'entrada és l'esperada, no cal fer tractament d'errors\n",
    "def validar_NIF(cadenaNIF):\n",
    "    \"\"\"\n",
    "    Aquesta funció valida si la lletre correspon al DNI\n",
    "    \n",
    "    Parameters\n",
    "    ----------\n",
    "    cadenaNIF: str\n",
    "        NIF\n",
    "        \n",
    "    Returns\n",
    "    -------\n",
    "    esCorrecte: bool\n",
    "        Retorna si el NIF és correcte o no.\n",
    "    \"\"\"\n",
    "    ordre_lletres = ['T', 'R', 'W', 'A', 'G', 'M', 'Y', 'F', 'P', 'D', 'X', 'B', 'N', 'J', 'Z', 'S', 'Q', 'V', 'H', 'L', 'C', 'K', 'E']\n",
    "\n",
    "    # Agafem la lletra del final de la cadena i ens la guardem\n",
    "    lletra = cadenaNIF[8]\n",
    "\n",
    "    # El nombre són els primers 8 digits de la cadena de text\n",
    "    num = int(cadenaNIF[:8])\n",
    "\n",
    "    return lletra == ordre_lletres[num%23]\n"
   ],
   "execution_count": 3,
   "outputs": []
  },
  {
   "cell_type": "code",
   "metadata": {
    "id": "ez-eMr8lUhzy"
   },
   "source": [
    "assert validar_NIF('56789123F') == True\n",
    "assert validar_NIF('56789123H') == False"
   ],
   "execution_count": 4,
   "outputs": []
  }
 ]
}
