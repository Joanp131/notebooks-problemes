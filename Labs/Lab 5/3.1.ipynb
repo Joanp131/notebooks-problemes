{
 "nbformat": 4,
 "nbformat_minor": 0,
 "metadata": {
  "kernelspec": {
   "display_name": "Python 3",
   "language": "python",
   "name": "python3"
  },
  "language_info": {
   "codemirror_mode": {
    "name": "ipython",
    "version": 3
   },
   "file_extension": ".py",
   "mimetype": "text/x-python",
   "name": "python",
   "nbconvert_exporter": "python",
   "pygments_lexer": "ipython3",
   "version": "3.8.10"
  },
  "colab": {
   "name": "3.1.ipynb",
   "provenance": [],
   "collapsed_sections": []
  }
 },
 "cells": [
  {
   "cell_type": "markdown",
   "metadata": {
    "id": "KB3KAlcFUTai"
   },
   "source": [
    "# Capítol 3 - Algorismes i Nombres"
   ]
  },
  {
   "cell_type": "markdown",
   "metadata": {
    "id": "lESOpOrkUTak"
   },
   "source": [
    "### 3.1 Divisió entera"
   ]
  },
  {
   "cell_type": "code",
   "metadata": {
    "id": "Qym49fpTUTal"
   },
   "source": [
    "# Programar a mà la divisió entera, sense operadors (*, /, //, %).\n",
    "# Només podem sumar i restar.\n",
    "def divisio_entera(dividend, divisor):\n",
    "    \"\"\"\n",
    "    Aquesta funció calcula la divisió entera de dos nombres naturals.\n",
    "    Atenció: No es poden utilitzar els operadors: *, /, %.\n",
    "    \n",
    "    Parameters\n",
    "    ----------\n",
    "    dividend: int\n",
    "    divisor: int\n",
    "    \n",
    "    Returns\n",
    "    -------\n",
    "    quocient: int\n",
    "    \"\"\"\n",
    "\n",
    "    # Per calcular el resultat de la divisió entera, prenem el divident i li anem restant el divisor\n",
    "    # fins que el resultat sigui més petit que aquest. El nombre de restes que hem fet serà el quocient, i el resultat\n",
    "    # de la resta el residu\n",
    "\n",
    "    count = 0\n",
    "    quocient = dividend\n",
    "\n",
    "    while quocient >= divisor:\n",
    "        quocient -= divisor\n",
    "        count += 1\n",
    "\n",
    "    return count"
   ],
   "execution_count": 7,
   "outputs": []
  },
  {
   "cell_type": "code",
   "metadata": {
    "id": "q68LWvO4UTam"
   },
   "source": [
    "assert divisio_entera(10,2) == 5\n",
    "assert divisio_entera(9,2) == 4"
   ],
   "execution_count": 8,
   "outputs": []
  }
 ]
}
