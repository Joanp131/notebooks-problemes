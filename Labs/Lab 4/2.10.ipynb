{
 "cells": [
  {
   "cell_type": "markdown",
   "metadata": {
    "id": "_FgDcqdYOBF4"
   },
   "source": [
    "# Capítol 2 - Algorismes bàsics de Python"
   ]
  },
  {
   "cell_type": "markdown",
   "metadata": {
    "id": "1SsF8yNtOBGI"
   },
   "source": [
    "### 2.10 Sumatori de Parelles"
   ]
  },
  {
   "cell_type": "markdown",
   "metadata": {},
   "source": [
    "Donada una llista d'enters i un valor de suma, troba, de la manera més\n",
    "eficient possible, totes les parelles de nombres a la llista que sumin aquest\n",
    "valor. L'algorisme pot tenir una complexitat d'ordre $\\mathcal{O}(n^2)$ però el cost exacte ha de ser menor que $n^2$."
   ]
  },
  {
   "cell_type": "code",
   "execution_count": 1,
   "metadata": {
    "id": "13mdkQbVOBGI"
   },
   "outputs": [],
   "source": [
    "def sumatori_parelles(llista, valorSuma):\n",
    "    \"\"\"\n",
    "    Aquesta funció trobat totes les parelles de nombres que sumin el valor.\n",
    "    \n",
    "    Parameters\n",
    "    ----------\n",
    "    llista: list\n",
    "        La llista d'enters\n",
    "    valorSuma: int\n",
    "        valor que \n",
    "    \n",
    "    Returns\n",
    "    -------\n",
    "    parelles: list\n",
    "        Una llista de parelles la suma de la qual és igual a valorSuma.\n",
    "        Les parelles no s'han de repetir a la llista i el primer element de\n",
    "        la parella serà el que tingui valor més baix.\n",
    "    \"\"\"\n",
    "    parelles = []\n",
    "    for i in range(len(llista) - 1):\n",
    "        for j in range(i + 1, len(llista)):\n",
    "            if llista[i] + llista[j] == valorSuma:\n",
    "                parelles.append(tuple([llista[i], llista[j]]))\n",
    "\n",
    "    return set(parelles)"
   ]
  },
  {
   "cell_type": "code",
   "execution_count": 3,
   "metadata": {
    "id": "E-q3_SwzOBGI"
   },
   "outputs": [
    {
     "data": {
      "text/plain": "{(2, 5), (3, 4), (5, 2)}"
     },
     "execution_count": 3,
     "metadata": {},
     "output_type": "execute_result"
    }
   ],
   "source": [
    "assert set(sumatori_parelles([3, 1, 5, 2, 7, 8], 10))  == set([(2, 8), (3, 7)])\n",
    "assert set(sumatori_parelles([4,12,7,6,1,3,2,9,11,5,8,20,13,0,14],20)) == set([(20, 0), (6, 14), (7, 13), (12, 8), (9, 11)])\n",
    "sumatori_parelles([2,5, 3, 4, 9, 2, 1], 7)"
   ]
  },
  {
   "cell_type": "code",
   "execution_count": null,
   "outputs": [],
   "source": [],
   "metadata": {
    "collapsed": false
   }
  }
 ],
 "metadata": {
  "colab": {
   "collapsed_sections": [],
   "name": "2.10.ipynb",
   "provenance": []
  },
  "kernelspec": {
   "display_name": "Python 3.8.6rc1 64-bit (system)",
   "language": "python",
   "name": "python3"
  },
  "language_info": {
   "codemirror_mode": {
    "name": "ipython",
    "version": 3
   },
   "file_extension": ".py",
   "mimetype": "text/x-python",
   "name": "python",
   "nbconvert_exporter": "python",
   "pygments_lexer": "ipython3",
   "version": "3.8.6"
  },
  "vscode": {
   "interpreter": {
    "hash": "b7d5521a80c2c370047c8b3946d4b51cbe9eac44fad1075e96f476b66b4a61cb"
   }
  }
 },
 "nbformat": 4,
 "nbformat_minor": 0
}
