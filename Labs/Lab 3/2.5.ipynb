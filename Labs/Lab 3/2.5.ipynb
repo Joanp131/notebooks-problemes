{
 "nbformat": 4,
 "nbformat_minor": 0,
 "metadata": {
  "kernelspec": {
   "display_name": "Python 3",
   "language": "python",
   "name": "python3"
  },
  "language_info": {
   "codemirror_mode": {
    "name": "ipython",
    "version": 3
   },
   "file_extension": ".py",
   "mimetype": "text/x-python",
   "name": "python",
   "nbconvert_exporter": "python",
   "pygments_lexer": "ipython3",
   "version": "3.8.10"
  },
  "colab": {
   "name": "2.5.ipynb",
   "provenance": [],
   "collapsed_sections": []
  }
 },
 "cells": [
  {
   "cell_type": "markdown",
   "metadata": {
    "id": "3bYGguNLQHkx",
    "pycharm": {
     "name": "#%% md\n"
    }
   },
   "source": [
    "# Capítol 2 - Algorismes bàsics de Python"
   ]
  },
  {
   "cell_type": "markdown",
   "metadata": {
    "id": "qNc1ZW6YQHk9",
    "pycharm": {
     "name": "#%% md\n"
    }
   },
   "source": [
    "### 2.5 Capicua"
   ]
  },
  {
   "cell_type": "code",
   "metadata": {
    "id": "OE1WxdHRQHk9",
    "pycharm": {
     "name": "#%%\n"
    }
   },
   "source": [
    "def es_capicua(paraula):\n",
    "    \"\"\"\n",
    "    Aquesta funció determina si una paraula és capicua.\n",
    "    \n",
    "    Parameters\n",
    "    ----------\n",
    "    paraula: string\n",
    "        La paraula a determinar\n",
    "    \n",
    "    Returns\n",
    "    -------\n",
    "    b: bool\n",
    "        true si la paraula és capicua, false altrament\n",
    "    \"\"\"    \n",
    "    \n",
    "    return paraula == paraula[::-1]"
   ],
   "execution_count": 5,
   "outputs": []
  },
  {
   "cell_type": "code",
   "metadata": {
    "id": "7rAEYXY4QHk9",
    "pycharm": {
     "name": "#%%\n"
    }
   },
   "source": [
    "assert es_capicua(\"llull\") == True\n",
    "assert es_capicua(\"llullu\") == False"
   ],
   "execution_count": 6,
   "outputs": []
  },
  {
   "cell_type": "code",
   "metadata": {
    "id": "T6sulrcOQHk-",
    "pycharm": {
     "name": "#%%\n"
    }
   },
   "source": [
    "def es_capicua_rotacions(paraula): \n",
    "    \"\"\"\n",
    "    Aquesta funció determina si una paraula és capicua aplicant rotacions.\n",
    "    \n",
    "    Parameters\n",
    "    ----------\n",
    "    paraula: string\n",
    "        La paraula a determinar\n",
    "    \n",
    "    Returns\n",
    "    -------\n",
    "    b: bool\n",
    "        true si la paraula és capicua, false altrament\n",
    "    \"\"\"   \n",
    "    for i in range(len(paraula)):\n",
    "        if es_capicua(paraula[i:] + paraula[:i]):\n",
    "            return True\n",
    "    \n",
    "    return False"
   ],
   "execution_count": 7,
   "outputs": []
  },
  {
   "cell_type": "code",
   "metadata": {
    "id": "fEp8tMiVQHk-",
    "outputId": "157f9908-d70b-4419-e028-84fc12e0a43c",
    "pycharm": {
     "name": "#%%\n"
    }
   },
   "source": [
    "assert es_capicua_rotacions(\"BAABCC\") == True"
   ],
   "execution_count": 8,
   "outputs": []
  }
 ]
}