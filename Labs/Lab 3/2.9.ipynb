{
 "nbformat": 4,
 "nbformat_minor": 0,
 "metadata": {
  "kernelspec": {
   "display_name": "Python 3",
   "language": "python",
   "name": "python3"
  },
  "language_info": {
   "codemirror_mode": {
    "name": "ipython",
    "version": 3
   },
   "file_extension": ".py",
   "mimetype": "text/x-python",
   "name": "python",
   "nbconvert_exporter": "python",
   "pygments_lexer": "ipython3",
   "version": "3.8.10"
  },
  "colab": {
   "name": "2.9.ipynb",
   "provenance": [],
   "collapsed_sections": []
  }
 },
 "cells": [
  {
   "cell_type": "markdown",
   "metadata": {
    "id": "9P8OJEwqOZPo",
    "pycharm": {
     "name": "#%% md\n"
    }
   },
   "source": [
    "# Capítol 2 - Algorismes bàsics de Python"
   ]
  },
  {
   "cell_type": "markdown",
   "metadata": {
    "id": "WMsJejoVOZP3",
    "pycharm": {
     "name": "#%% md\n"
    }
   },
   "source": [
    "### 2.9 Min max"
   ]
  },
  {
   "cell_type": "code",
   "metadata": {
    "id": "AzFb3FUEOZP3",
    "pycharm": {
     "name": "#%%\n"
    }
   },
   "source": [
    "def minim_maxim(llista):\n",
    "    \"\"\"\n",
    "    Aquesta funció troba el valor mínim i el valor màxim.\n",
    "    \n",
    "    Parameters\n",
    "    ----------\n",
    "    llista: list\n",
    "        La llista d'enters\n",
    "    \n",
    "    Returns\n",
    "    -------\n",
    "    min, max: int, int\n",
    "        Els valors mínim i màxim dins la llista\n",
    "    \"\"\"\n",
    "    # Amb un recorregut de la llista i sense utilitzar min max de python\n",
    "    if not len(llista):\n",
    "        return\n",
    "\n",
    "    min, max = llista[0], llista[0]\n",
    "    for i in llista:\n",
    "        if i < min:\n",
    "            min = i\n",
    "        if i > max:\n",
    "            max = i\n",
    "\n",
    "    return min, max"
   ],
   "execution_count": 3,
   "outputs": []
  },
  {
   "cell_type": "code",
   "metadata": {
    "id": "gOz5SJVdOZP3",
    "pycharm": {
     "name": "#%%\n"
    }
   },
   "source": [
    "assert minim_maxim([3, 1, 5, 2, 7, 8]) == (1, 8)\n",
    "assert minim_maxim([1, 7, 4, 6, 8, -2, 9, 5]) == (-2, 9)"
   ],
   "execution_count": 4,
   "outputs": []
  }
 ]
}