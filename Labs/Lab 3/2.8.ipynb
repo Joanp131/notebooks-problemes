{
 "nbformat": 4,
 "nbformat_minor": 0,
 "metadata": {
  "kernelspec": {
   "display_name": "Python 3",
   "language": "python",
   "name": "python3"
  },
  "language_info": {
   "codemirror_mode": {
    "name": "ipython",
    "version": 3
   },
   "file_extension": ".py",
   "mimetype": "text/x-python",
   "name": "python",
   "nbconvert_exporter": "python",
   "pygments_lexer": "ipython3",
   "version": "3.8.10"
  },
  "colab": {
   "name": "2.8.ipynb",
   "provenance": [],
   "collapsed_sections": []
  }
 },
 "cells": [
  {
   "cell_type": "markdown",
   "metadata": {
    "id": "CsC_YaYsOxtB"
   },
   "source": [
    "# Capítol 2 - Algorismes bàsics de Python"
   ]
  },
  {
   "cell_type": "markdown",
   "metadata": {
    "id": "VUTVcJCrOxtT"
   },
   "source": [
    "### 2.8 Factorial menor que un nombre"
   ]
  },
  {
   "cell_type": "code",
   "metadata": {
    "id": "uG_r2CsnOxtU"
   },
   "source": [
    "def factorial_menor(num):\n",
    "    \"\"\"\n",
    "    Aquesta funció calcula tots els factorials menors a un nombre\n",
    "    \n",
    "    Parameters\n",
    "    ----------\n",
    "    num: int\n",
    "    \n",
    "    Returns\n",
    "    -------\n",
    "    factorials: list\n",
    "    \"\"\"\n",
    "    llista = []\n",
    "    fact = 1\n",
    "    i = 2\n",
    "\n",
    "    while fact < num:\n",
    "        llista.append(fact)\n",
    "        fact *= i\n",
    "        i += 1\n",
    "\n",
    "    return llista"
   ],
   "execution_count": 3,
   "outputs": []
  },
  {
   "cell_type": "code",
   "metadata": {
    "id": "FGHpkkblOxtU"
   },
   "source": [
    "assert factorial_menor(20) == [1, 2, 6]\n",
    "assert factorial_menor(50) == [1, 2, 6, 24]\n",
    "factorial_menor(1)"
   ],
   "execution_count": 6,
   "outputs": [
    {
     "data": {
      "text/plain": "[]"
     },
     "execution_count": 6,
     "metadata": {},
     "output_type": "execute_result"
    }
   ]
  },
  {
   "cell_type": "code",
   "execution_count": null,
   "outputs": [],
   "source": [],
   "metadata": {
    "collapsed": false
   }
  }
 ]
}
