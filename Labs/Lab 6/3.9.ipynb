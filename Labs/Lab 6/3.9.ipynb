{
 "cells": [
  {
   "cell_type": "markdown",
   "metadata": {
    "id": "Tq8bG1MNUhzi"
   },
   "source": [
    "# Capítol 3 - Algorismes i Nombres"
   ]
  },
  {
   "cell_type": "markdown",
   "metadata": {
    "id": "-b_Lt07AUhz0"
   },
   "source": [
    "### 3.9 Primeritat i el Teorema de Fermat"
   ]
  },
  {
   "cell_type": "markdown",
   "metadata": {},
   "source": [
    "Un primer de Wieferich és un nombre primer $p$ tal que $p^2$ divideix $2^{p-1}-1$. Quins primers de Wieferich hi ha menors que 5.000?"
   ]
  },
  {
   "cell_type": "code",
   "execution_count": null,
   "metadata": {
    "id": "9HC6tSoaUhz0"
   },
   "outputs": [],
   "source": [
    "def primers_Wieferich(n = 5000):\n",
    "    \"\"\"\n",
    "    Aquesta funció calcula els primer de Wieferich fins a n = 5000.\n",
    "    \n",
    "    Parameters\n",
    "    ----------\n",
    "    n: int\n",
    "    \n",
    "    Returns\n",
    "    -------\n",
    "    wieferich: list\n",
    "    \"\"\"\n"
   ]
  },
  {
   "cell_type": "code",
   "execution_count": null,
   "metadata": {
    "id": "F8lCar_aUhz1"
   },
   "outputs": [],
   "source": [
    "assert primers_Wieferich(n = 5000) == [1093,3511]"
   ]
  },
  {
   "cell_type": "code",
   "execution_count": 5,
   "metadata": {},
   "outputs": [
    {
     "data": {
      "text/plain": [
       "0"
      ]
     },
     "execution_count": 5,
     "metadata": {},
     "output_type": "execute_result"
    }
   ],
   "source": [
    "((2**3510)-1) % (3511**2)\n"
   ]
  },
  {
   "cell_type": "markdown",
   "metadata": {},
   "source": [
    "Escriu una funció *factorp* que comprovi si un determinat nombre *n* és primer mitjançant la tècnica de la factorització i que imprimeixi quant de temps ha tardat a calcular-ho.\n",
    "\n",
    "Escriu una segona funció, *fermatp*, que comprovi si un determinat nombre > 10 és primer mitjançant la tècnica de Fermant, fent la comprovació simplement amb els nombres a = 2, 3, 5, i que imprimeixi quant de temps ha tardat a calcular-ho."
   ]
  },
  {
   "cell_type": "code",
   "execution_count": null,
   "metadata": {
    "id": "alvUA8KRUhz1"
   },
   "outputs": [],
   "source": [
    "import math\n",
    "\n",
    "def factorp(N):\n",
    "    \"\"\"\n",
    "    Aquesta funció comprova si un determinat nombre és primer mitjançant la tècnica de factorització.\n",
    "    \n",
    "    Parameters\n",
    "    ----------\n",
    "    N: int\n",
    "    \n",
    "    Returns\n",
    "    -------\n",
    "    esPrimer: bool\n",
    "    \"\"\"\n",
    "    return esPrimer\n",
    "\n",
    "\n",
    "def fermatp(N, a = [2, 3, 5]):\n",
    "    \"\"\"\n",
    "    Aquesta funció comprova si un nombre es primer mitjançant la tècnica de Fermat\n",
    "    \n",
    "    Parameters\n",
    "    ----------\n",
    "    N: int\n",
    "    a: list\n",
    "    \n",
    "    Returns\n",
    "    -------\n",
    "    esPrimer: bool\n",
    "    \"\"\"\n",
    "    return esPrimer"
   ]
  },
  {
   "cell_type": "code",
   "execution_count": null,
   "metadata": {
    "id": "38WPdLEWUhz1"
   },
   "outputs": [],
   "source": [
    "assert factorp(10) == False\n",
    "assert fermatp(10) == False\n",
    "assert factorp(7) == True\n",
    "assert fermatp(7) == True\n",
    "assert factorp(5) == True\n",
    "assert fermatp(5) == True\n",
    "assert factorp(1) == False\n",
    "assert fermatp(1) == False"
   ]
  }
 ],
 "metadata": {
  "colab": {
   "collapsed_sections": [],
   "name": "3.9.ipynb",
   "provenance": []
  },
  "kernelspec": {
   "display_name": "Python 3 (ipykernel)",
   "language": "python",
   "name": "python3"
  },
  "language_info": {
   "codemirror_mode": {
    "name": "ipython",
    "version": 3
   },
   "file_extension": ".py",
   "mimetype": "text/x-python",
   "name": "python",
   "nbconvert_exporter": "python",
   "pygments_lexer": "ipython3",
   "version": "3.9.7"
  },
  "vscode": {
   "interpreter": {
    "hash": "b7d5521a80c2c370047c8b3946d4b51cbe9eac44fad1075e96f476b66b4a61cb"
   }
  }
 },
 "nbformat": 4,
 "nbformat_minor": 4
}
