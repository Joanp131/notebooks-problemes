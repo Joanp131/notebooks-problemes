{
 "cells": [
  {
   "cell_type": "markdown",
   "metadata": {
    "id": "Tq8bG1MNUhzi"
   },
   "source": [
    "# Capítol 3 - Algorismes i Nombres"
   ]
  },
  {
   "cell_type": "markdown",
   "metadata": {
    "id": "SMjaC9A4Uhz0"
   },
   "source": [
    "### 3.8 Primeritat"
   ]
  },
  {
   "cell_type": "markdown",
   "metadata": {},
   "source": [
    "El [sedàs d'Eratòstenes](https://ca.wikipedia.org/wiki/Sed%C3%A0s_d%27Erat%C3%B2stenes) és un algorisme per cercar tots els nombres primers fins un determinat enter. Aquest algorisme te la forma següent:\n",
    "\n",
    "- Escriu una llista ``llista1`` amb els nombres del $2$ fins a l'enter $N$ que vulguis calcular.\n",
    "- El primer nombre de la llista és un nombre primer. Anota'l en una llista de nombres primers, ``llista2``.\n",
    "- Esborra de la llista ``llista1`` el primer nombre i els seus múltiples.\n",
    "- Si el primer nombre de la llista ``llista1`` és més petit que $\\sqrt{N}$ torna al punt $2$.\n",
    "- Els nombres de la llista ``llista2`` i els que queden a la llista ``llista1`` són tots els nombres primers cercats.\n",
    "\n",
    "Implementa la funció ``eratostenes`` implementat l'algorisme d'Eratòstenes. A més a més, implementa la funció ``primer`` que retorna l'ennessim primer."
   ]
  },
  {
   "cell_type": "code",
   "execution_count": 20,
   "metadata": {
    "id": "2f9HkoyWUhz0",
    "scrolled": true
   },
   "outputs": [
    {
     "name": "stdout",
     "output_type": "stream",
     "text": [
      "775146.0992245268\n",
      "62113\n"
     ]
    }
   ],
   "source": [
    "import math\n",
    "from random import randint  \n",
    "\n",
    "# És més eficient fer-ho amb una llista de booleans inicialitzada a [True] * N\n",
    "\n",
    "def eratostenes(n) :\n",
    "    \"\"\"\n",
    "    Aquesta funció implementa l'algorisme d'Eratòstenes per cercar tots els nombres primers fins a n.\n",
    "    \n",
    "    Parameters\n",
    "    ----------\n",
    "    n: int\n",
    "    \n",
    "    Returns\n",
    "    -------\n",
    "    ret: list\n",
    "    \"\"\"\n",
    "    # Per cada nombre de 2 fins a n, mirem si son primers o no\n",
    "    # O(n)\n",
    "    llista_bool = [True] * (n - 2)\n",
    "\n",
    "    llista_primers = []\n",
    "\n",
    "    # Per cada True de la llista, mirem a quin nombre pertany i posem tots els seus múltiples a False\n",
    "    for i in range(len(llista_bool)):    # O(n)\n",
    "\n",
    "        if llista_bool[i]:\n",
    "            # Calculem el nombre associat a la posició\n",
    "            num = i + 2\n",
    "            llista_primers.append(num)\n",
    "\n",
    "            # Posem tots els seus múltiples a false\n",
    "            mult = num*2\n",
    "            \n",
    "            # Recorrem la llista n/mult vegades\n",
    "            while mult < n:\n",
    "                llista_bool[mult - 2] = False\n",
    "                mult += num\n",
    "\n",
    "    return llista_primers\n",
    "\n",
    "print(math.sqrt(600851475143))\n",
    "print(len(eratostenes(775146)))"
   ]
  },
  {
   "cell_type": "markdown",
   "metadata": {},
   "source": [
    "#### Complexitat de la funció `eratostenes(n)`\n",
    "\n",
    "+ La complexitat de crear una llista de $n$ elements és $\\mathcal{O}(n)$\n",
    "+ El bucle `for i in range(len(llista_bool)):` recorre la llista de n elements, per tant, tindrà complexitat $\\mathcal{O}(n\\cdot T_{int})$, on $T_{int}$ és la complexitat de les instruccions de l'interior del bucle.\n",
    "+ Dins el bucle, per cada nombre primer p, recorrem $\\frac{n}{p}$ elements de la llista"
   ]
  },
  {
   "cell_type": "markdown",
   "metadata": {},
   "source": [
    "Donat un nombre n, volem trobar x de manera que $\\pi(n) \\leq x$, és a dir, una aproximació de fins a quin nombre $x$ hem de calcular primers de manera que la llista que ens surti contingui el primer enèssim.\n",
    "Si considerem la funció $f(n) = 1.5n\\ln(n)$, veiem que compleix aquesta propietat."
   ]
  },
  {
   "cell_type": "code",
   "execution_count": 10,
   "metadata": {
    "id": "2f9HkoyWUhz0"
   },
   "outputs": [],
   "source": [
    "def primer(n):\n",
    "    \"\"\"\n",
    "    Aquesta funció retorna el l'ennessim primer.\n",
    "    \n",
    "    Parameters\n",
    "    ----------\n",
    "    n: int\n",
    "    \n",
    "    Returns\n",
    "    -------\n",
    "    primer: int\n",
    "    \"\"\"\n",
    "    \n",
    "    # Nombre fins el qual volem calcular primers\n",
    "    # Si n és molt petit, inicialitzem la x a 10 per evitar errors\n",
    "    if n < 5:\n",
    "        x = 10\n",
    "    else:\n",
    "        x = math.ceil(1.5*n*math.log(n))\n",
    "       \n",
    "    # Calculem primers fins aquell nombre\n",
    "    llista_primers = eratostenes(x)\n",
    "    \n",
    "    # Comprovem que tenim prous primers per trobar l'enèssim\n",
    "    while len(llista_primers) < n:\n",
    "        # En el cas que la llista no sigui prou llarga, incrementem x i tornem a calcular la llista\n",
    "        x += x*.2\n",
    "        \n",
    "        llista_primers = eratostenes(x)\n",
    "    \n",
    "    # Un cop tenim la llista, retornem l'enèssim primer\n",
    "    return llista_primers[n-1]"
   ]
  },
  {
   "cell_type": "code",
   "execution_count": 16,
   "metadata": {
    "id": "deNLLT5wUhz0"
   },
   "outputs": [],
   "source": [
    "assert primer(6) == 13\n",
    "assert primer(10001) == 104743\n",
    "\n",
    "# Comprovem que no falla en casos petits\n",
    "assert primer(2) == 3\n",
    "assert primer(1) == 2\n",
    "\n",
    "# Provem un nombre gran\n",
    "assert primer(1000000) == 15485863"
   ]
  },
  {
   "cell_type": "markdown",
   "metadata": {},
   "source": [
    "Implementa ara l'algorisme d'Eratòstenes a la funció ``eratostenes_IO`` utilitzant mètodes d'entrada i sortida. "
   ]
  },
  {
   "cell_type": "code",
   "execution_count": null,
   "metadata": {},
   "outputs": [],
   "source": [
    "def eratostenes_IO(input_file, output_file):\n",
    "    \"\"\"\n",
    "    Aquesta funció implementa l'algorisme d'Eratòstenes per generar tots els nombres primers \n",
    "    fins a un nombre n, definit a un fitxer de text input_file, i guarda el resultat a un \n",
    "    fitxer de text output_file on estan escrits els primers ordenats i separats per coma.\n",
    "    Exemples de fitxers d'entrada i sortida són 'example_input_file.txt' i \n",
    "    'example_output_file.txt'. Assumim que el fitxer de sortida no existeix i que el fitxer\n",
    "    d'entrada existeix i està ben formatejat.\n",
    "    \n",
    "    Parameters\n",
    "    ----------\n",
    "    input_file: str \n",
    "    output_file: str\n",
    "\n",
    "    Returns\n",
    "    -------\n",
    "    Aquesta funció no retorna.\n",
    "    \"\"\"\n",
    "    pass"
   ]
  },
  {
   "cell_type": "markdown",
   "metadata": {},
   "source": [
    "Escriu una funció que calculi el factor primer més gran d'un nombre natural donat."
   ]
  },
  {
   "cell_type": "code",
   "execution_count": 22,
   "metadata": {
    "id": "ATnJ4dvgUhz0"
   },
   "outputs": [],
   "source": [
    "def factor_primer_mes_gran(n):\n",
    "    \"\"\"\n",
    "    Aquesta funció calcula el factor primer més gran d'un nombre natural donat.\n",
    "    \n",
    "    Parameters\n",
    "    ----------\n",
    "    n: int\n",
    "    \n",
    "    Returns\n",
    "    -------\n",
    "    factor: int\n",
    "    \"\"\"\n",
    "    \n",
    "    # Si n és un nombre compost (no és primer), té, per força, un factor primer menor o igual que arrel de n.\n",
    "    # Per tant, podem calcular tots els nombres primers més petits que n i mirar quin és el més gran que divideix n.\n",
    "    # Si no existeix cap primer amb aquesta propietat, significa que n és primer\n",
    "    \n",
    "    # Calculem arrel de n i arrodonim cap abaix\n",
    "    arrel_n = math.floor(math.sqrt(n))\n",
    "    \n",
    "    # Calculem tots els primers fins a arrel de n inclòs\n",
    "    llista_primers = eratostenes(arrel_n)[::-1]\n",
    "    \n",
    "    # Mirem del primer més gran al més petit de la llista quin és el primer que divideix a n\n",
    "    trobat = False\n",
    "    i = 0\n",
    "    while not trobat and i < len(llista_primers):\n",
    "        # en el cas que trobem el nombre, parem el bucle\n",
    "        if n % llista_primers[i] == 0:\n",
    "            trobat = True\n",
    "        \n",
    "        # Si no l'hem trobat, seguim mirant\n",
    "        else:\n",
    "            i += 1\n",
    "    \n",
    "    # Si hem trobat un divisor, aquell és el més gran, sinó, n és primer\n",
    "    return llista_primers[i] if trobat else n\n",
    "        "
   ]
  },
  {
   "cell_type": "code",
   "execution_count": 30,
   "metadata": {
    "id": "DZwAlGr5Uhz0"
   },
   "outputs": [],
   "source": [
    "assert factor_primer_mes_gran(600851475143) == 6857\n",
    "\n",
    "# Provem amb un nombre primer molt gran\n",
    "assert factor_primer_mes_gran(22801763489) == 22801763489\n",
    "assert factor_primer_mes_gran(790645490053) == 790645490053"
   ]
  },
  {
   "cell_type": "code",
   "execution_count": null,
   "metadata": {},
   "outputs": [],
   "source": []
  }
 ],
 "metadata": {
  "colab": {
   "collapsed_sections": [],
   "name": "3.8.ipynb",
   "provenance": []
  },
  "kernelspec": {
   "display_name": "Python 3",
   "language": "python",
   "name": "python3"
  },
  "language_info": {
   "codemirror_mode": {
    "name": "ipython",
    "version": 3
   },
   "file_extension": ".py",
   "mimetype": "text/x-python",
   "name": "python",
   "nbconvert_exporter": "python",
   "pygments_lexer": "ipython3",
   "version": "3.8.8"
  },
  "vscode": {
   "interpreter": {
    "hash": "b7d5521a80c2c370047c8b3946d4b51cbe9eac44fad1075e96f476b66b4a61cb"
   }
  }
 },
 "nbformat": 4,
 "nbformat_minor": 4
}